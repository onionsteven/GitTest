{
 "cells": [
  {
   "cell_type": "code",
   "execution_count": 3,
   "metadata": {},
   "outputs": [
    {
     "name": "stdout",
     "output_type": "stream",
     "text": [
      "status code of 1st website\n",
      "200\n",
      "status code of 2nd website\n",
      "403\n"
     ]
    }
   ],
   "source": [
    "import requests\n",
    "\n",
    "# 使用 GET 方式下載普通網頁\n",
    "r = requests.get('https://cathay-ds-test.s3-ap-northeast-1.amazonaws.com/user_info?userid=A123456789')\n",
    "# 伺服器回應的狀態碼\n",
    "print(\"status code of 1st website\")\n",
    "print(r.status_code)\n",
    "\n",
    "r = requests.get('https://cathay-ds-test.s3-ap-northeast-1.amazonaws.com/company_info?companyid=1')\n",
    "# 伺服器回應的狀態碼\n",
    "print(\"status code of 2nd website\")\n",
    "print(r.status_code)\n"
   ]
  }
 ],
 "metadata": {
  "kernelspec": {
   "display_name": "Python 3",
   "language": "python",
   "name": "python3"
  },
  "language_info": {
   "codemirror_mode": {
    "name": "ipython",
    "version": 3
   },
   "file_extension": ".py",
   "mimetype": "text/x-python",
   "name": "python",
   "nbconvert_exporter": "python",
   "pygments_lexer": "ipython3",
   "version": "3.7.0"
  }
 },
 "nbformat": 4,
 "nbformat_minor": 2
}
