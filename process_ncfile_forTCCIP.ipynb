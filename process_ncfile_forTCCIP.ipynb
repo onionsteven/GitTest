{
 "cells": [
  {
   "cell_type": "code",
   "execution_count": 8,
   "metadata": {},
   "outputs": [
    {
     "name": "stdout",
     "output_type": "stream",
     "text": [
      "使用者設定執行--------------------\n",
      "檔案路徑：E:\\WorkedatNCDR\\sideProject\\pr_BCSD_ACCESS1-3.nc\n",
      "分析起點：1\n",
      "分析終點：65\n",
      "計算年份長度：65\n",
      "執行：<function find_counts at 0x00000212FFE29C10>\n",
      "預設：continue_day=1\n",
      "時期選擇：month/長度設定=12\n"
     ]
    }
   ],
   "source": [
    "#載入套件\n",
    "from netCDF4 import Dataset\n",
    "import netCDF4 as nc\n",
    "\n",
    "import numpy as np \n",
    "import pandas as pd\n",
    "\n",
    "import matplotlib as mpl\n",
    "import matplotlib.pyplot as plt\n",
    "import seaborn as sns\n",
    "\n",
    "#功能_I：計算參數\n",
    "def find_para(dada):\n",
    "    oc = mean(dada)\n",
    "    return(oc)\n",
    "\n",
    "#功能_II：計算次數\n",
    "#tel_fun編寫範例：dada > 20\n",
    "def find_counts(dada,continue_days):\n",
    "    \n",
    "    oc = mean(dada)\n",
    "    return(oc)\n",
    "\n",
    "\n",
    "#功能設定---------\n",
    "#資料夾路徑\n",
    "#dp = \"\"\n",
    "#檔案路徑\n",
    "fp = r\"E:\\WorkedatNCDR\\sideProject\\pr_BCSD_ACCESS1-3.nc\"\n",
    "\n",
    "#分析起點 PS:python起始為0\n",
    "material_start_yr = 1\n",
    "#分析終點\n",
    "material_end_yr = 65\n",
    "#功能選擇`: \n",
    "#1 -> para ->計算參數 預設計算mean\n",
    "#2 -> count ->計算次數 連續天數預設1\n",
    "process_function = 2\n",
    "#時期選擇 \"month\" 或 \"tenday\"\n",
    "#period_type=\"month\"\n",
    "period_type=\"tenday\"\n",
    "\n",
    "#預設部分-----------------\n",
    "\n",
    "#for計算參數 (預設計算mean)\n",
    "para_to_cal = np.mean\n",
    "#for連續天數 (預設為1)\n",
    "continue_day = 1\n",
    "\n",
    "#依照功能選擇 改變process_mov \n",
    "if process_function == 1:\n",
    "    process_mov = find_para\n",
    "    show_process = \"para_to_cal\" + \"=\" + str(para_to_cal)\n",
    "    to_process = para_to_cal\n",
    "elif process_function == 2:\n",
    "    process_mov = find_counts\n",
    "    show_process = \"continue_day\" + \"=\" + str(continue_day)\n",
    "    to_process = find_counts\n",
    "\n",
    "#依功能選擇改變計算長度\n",
    "if period_type == \"month\":\n",
    "    select_mat = \"month_mat\"\n",
    "    period_len = 12\n",
    "    #csv設定 \n",
    "    #圖片設定\n",
    "elif period_type == \"tenday\":\n",
    "    select_mat = \"tenday_mat\"\n",
    "    period_len = 36\n",
    "    #csv設定 \n",
    "    #圖片設定\n",
    "    \n",
    "#計算長度\n",
    "cal_length = material_end_yr - material_start_yr +1 \n",
    "\n",
    "print(\"使用者設定執行--------------------\")\n",
    "print(\"檔案路徑：\" + fp)\n",
    "print(\"分析起點：\" + str(material_start_yr))\n",
    "print(\"分析終點：\" + str(material_end_yr))\n",
    "print(\"計算年份長度：\" + str(cal_length))\n",
    "print(\"執行：\" + str(process_mov))\n",
    "print(\"預設：\" + str(show_process))\n",
    "print(\"時期選擇：\" + period_type + \"/長度設定=\"+ str(period_len))\n"
   ]
  },
  {
   "cell_type": "code",
   "execution_count": 117,
   "metadata": {},
   "outputs": [
    {
     "name": "stdout",
     "output_type": "stream",
     "text": [
      "讀入nc檔\n",
      "檢視資料維度\n",
      "{'lon': <class 'netCDF4._netCDF4.Dimension'>: name = 'lon', size = 60, 'lat': <class 'netCDF4._netCDF4.Dimension'>: name = 'lat', size = 81, 'time': <class 'netCDF4._netCDF4.Dimension'> (unlimited): name = 'time', size = 16790}\n"
     ]
    },
    {
     "name": "stderr",
     "output_type": "stream",
     "text": [
      "<ipython-input-117-1a3b59a33808>:10: DeprecationWarning: tostring() is deprecated. Use tobytes() instead.\n",
      "  print(nc_data.dimensions)\n"
     ]
    },
    {
     "name": "stdout",
     "output_type": "stream",
     "text": [
      "檢視降雨量最大值\n",
      "1287.7692\n",
      "檢視降雨量最小值(移除-999和0)\n",
      "5.569863e-14\n",
      "(81,)\n",
      "(60,)\n",
      "(16790,)\n",
      "(16790, 81, 60)\n",
      "{'CDI': 'Climate Data Interface version 1.6.9 (http://mpimet.mpg.de/cdi)', 'Conventions': 'CF-1.4', 'history': 'Fri Feb 03 14:24:46 2017: cdo settaxis,1960-Jan-01,12:00,1day pr2.nc pr_BCSD_ACCESS1-3.nc\\nFri Feb 03 14:24:44 2017: cdo setcalendar,365_day pr.nc pr2.nc\\nFri Feb 03 14:24:42 2017: cdo -r -f nc import_binary pr_BCSD_ACCESS1-3.ctl pr.nc', 'CDO': 'Climate Data Operators version 1.6.9 (http://mpimet.mpg.de/cdo)'}\n",
      "------------------------\n",
      "雨量資料.維度\n",
      "(16790, 81, 60)\n",
      "各別檢視維度\n",
      "(81, 60)\n",
      "9.1649275\n",
      "2.1805158e-06\n",
      "(81, 60)\n",
      "影像檢視測試\n",
      "------------------------\n",
      "檢視時間長度(第一維度)\n"
     ]
    },
    {
     "name": "stderr",
     "output_type": "stream",
     "text": [
      "<ipython-input-117-1a3b59a33808>:31: DeprecationWarning: tostring() is deprecated. Use tobytes() instead.\n",
      "  print(nc_data.__dict__)\n"
     ]
    },
    {
     "name": "stdout",
     "output_type": "stream",
     "text": [
      "(16790, 81, 60)\n",
      "------------------------\n",
      "測試尋找空間最大值(取一個時間維度)\n",
      "------------------------\n",
      "測試尋找跨時間最大值(形成一個矩陣)\n",
      "[[0. 0. 0. ... 0. 0. 0.]\n",
      " [0. 0. 0. ... 0. 0. 0.]\n",
      " [0. 0. 0. ... 0. 0. 0.]\n",
      " ...\n",
      " [0. 0. 0. ... 0. 0. 0.]\n",
      " [0. 0. 0. ... 0. 0. 0.]\n",
      " [0. 0. 0. ... 0. 0. 0.]]\n",
      "1287.7692\n",
      "------------------------\n",
      "測試尋找跨時間最小值(形成一個矩陣)\n",
      "[[0. 0. 0. ... 0. 0. 0.]\n",
      " [0. 0. 0. ... 0. 0. 0.]\n",
      " [0. 0. 0. ... 0. 0. 0.]\n",
      " ...\n",
      " [0. 0. 0. ... 0. 0. 0.]\n",
      " [0. 0. 0. ... 0. 0. 0.]\n",
      " [0. 0. 0. ... 0. 0. 0.]]\n",
      "0.0\n",
      "--------------------\n",
      "模仿R中的apply處理第三維資料_返回最大值(除去NAN)\n",
      "python讀進nc檔時間維度為第一個維度\n",
      "(81, 60)\n",
      "(16790, 81, 60)\n",
      "[False False  True ...  True  True False]\n",
      "16789\n",
      "[0. 0. 0. ... 1. 0. 0.]\n",
      "16790\n",
      "<class 'tuple'>\n"
     ]
    },
    {
     "data": {
      "image/png": "[encoded data removed]",
      "text/plain": [
       "<Figure size 432x288 with 2 Axes>"
      ]
     },
     "metadata": {
      "needs_background": "light"
     },
     "output_type": "display_data"
    }
   ],
   "source": [
    "\n",
    "\n",
    "print(\"讀入nc檔\")\n",
    "#fp = r\"C:\\Users\\rslab\\BU\\2018NJ\\sideProject\\pr_BCSD_ACCESS1-0.nc\"\n",
    "#fp = r\"C:\\Users\\rslab\\BU\\2018NJ\\shiny_developing\\g4_1_to_20.nc\"\n",
    "#fp = r\"C:\\Users\\rslab\\BU\\2018NJ\\sideProject\\pr_BCSD_ACCESS1-3.nc\"\n",
    "#fp = r\"E:\\WorkedatNCDR\\sideProject\\pr_BCSD_ACCESS1-3.nc\"\n",
    "\n",
    "nc_data = nc.Dataset(fp)\n",
    "\n",
    "print(\"檢視資料維度\")\n",
    "print(nc_data.dimensions)\n",
    "\n",
    "nc_data_np_array = np.array(nc_data[\"pr\"])\n",
    "\n",
    "print(\"檢視降雨量最大值\")\n",
    "print(np.max(nc_data_np_array))\n",
    "\n",
    "print(\"檢視降雨量最小值(移除-999和0)\")\n",
    "nc_data_np_array_mask = nc_data_np_array\n",
    "print(np.min(nc_data_np_array_mask[nc_data_np_array_mask>0]))\n",
    "\n",
    "lat = nc_data.variables['lat'][:]\n",
    "lon = nc_data.variables['lon'][:]\n",
    "tm = nc_data.variables['time'][:]\n",
    "pr = nc_data.variables['pr'][:]\n",
    "print(lat.shape)\n",
    "print(lon.shape)\n",
    "print(tm.shape)\n",
    "print(pr.shape)\n",
    "\n",
    "#顯示字典\n",
    "print(nc_data.__dict__)\n",
    "\n",
    "#關閉nc檔連接\n",
    "nc_data.close() #此處關閉資料 後面需要從上面變數提取資料\n",
    "\n",
    "print(\"------------------------\")\n",
    "print(\"雨量資料.維度\")\n",
    "print(pr.shape)\n",
    "\n",
    "print(\"各別檢視維度\")\n",
    "da_for_ig = pr[1,:,:]\n",
    "da = np.flip(da_for_ig,0)\n",
    "print(da.shape)\n",
    "print(np.amax(da))\n",
    "print(np.amin(da))\n",
    "mask=np.array([da < 0])\n",
    "mask.shape=(da.shape)\n",
    "print(mask.shape)\n",
    "\n",
    "print(\"影像檢視測試\")\n",
    "sns.heatmap(da,mask=mask,vmax=9,vmin=0).set_title(\"ehceck time=0 as image\")\n",
    "\n",
    "print(\"------------------------\")\n",
    "print(\"檢視時間長度(第一維度)\")\n",
    "#da_for_cal = nc_data.variables['pr'][:,3,3]\n",
    "#print(nc_data.variables['pr'].shape)\n",
    "da_for_cal = pr[:,3,3]\n",
    "print(pr.shape)\n",
    "\n",
    "print(\"------------------------\")\n",
    "print(\"測試尋找空間最大值(取一個時間維度)\")\n",
    "#pr_array = np.matrix(nc_data.variables['pr'][1,:,:])\n",
    "pr_array = np.array(pr)\n",
    "pr_array.shape=(16790, 81, 60)\n",
    "#print(pr_array.max())\n",
    "\n",
    "print(\"------------------------\")\n",
    "print(\"測試尋找跨時間最大值(形成一個矩陣)\")\n",
    "#print(np.nanmax(pr_array,0))\n",
    "for_plt_max = np.nanmax(pr_array,0)\n",
    "for_plt_max[for_plt_max < 0] = 0\n",
    "print(for_plt_max)\n",
    "print(for_plt_max.max())\n",
    "\n",
    "print(\"------------------------\")\n",
    "print(\"測試尋找跨時間最小值(形成一個矩陣)\")\n",
    "#print(np.nanmax(pr_array,0))\n",
    "for_plt_min = np.nanmin(pr_array,0)\n",
    "for_plt_min[for_plt_min < 0] = 0\n",
    "print(for_plt_min)\n",
    "print(for_plt_min.min())\n",
    "\n",
    "print(\"--------------------\")\n",
    "print(\"模仿R中的apply處理第三維資料_返回最大值(除去NAN)\")\n",
    "print(\"python讀進nc檔時間維度為第一個維度\")\n",
    "\n",
    "find_nanmax = lambda x: np.nanmax(x,0)\n",
    "nanmax_oc = np.apply_along_axis(find_nanmax,0,pr)\n",
    "print(nanmax_oc.shape)\n",
    "\n",
    "tel_array = pr_array > 1\n",
    "find_diff = lambda x: np.diff(x,0)\n",
    "tel_diff_oc = np.apply_along_axis(find_diff,0,tel_array)\n",
    "print(tel_diff_oc.shape)\n",
    "\n",
    "print(np.diff(tel_array[:,40,30]))\n",
    "print(len(np.diff(tel_array[:,40,30])))\n",
    "\n",
    "tel_array_01 = np.zeros(len(tel_array[:,40,30]))\n",
    "tel_array_01[tel_array[:,40,30]==1]=1\n",
    "\n",
    "print(tel_array_01)\n",
    "print(len(tel_array_01))\n",
    "\n",
    "diff_01 = np.diff(tel_array_01)\n",
    "pos_of_one = np.where(diff_01==1)\n",
    "pos_of_minus_one = np.where(diff_01==-1)\n",
    "\n",
    "print(type(pos_of_one))\n",
    "#print(len(pos_of_one)\n",
    "#print(len(pos_of_minus_one, dtype=int64))\n",
    "\n",
    "#np.diff(tel_array[:,40,30])==1\n"
   ]
  },
  {
   "cell_type": "code",
   "execution_count": 105,
   "metadata": {},
   "outputs": [
    {
     "name": "stdout",
     "output_type": "stream",
     "text": [
      "檢視色階圖\n",
      "(81, 60)\n",
      "檢視頻度圖\n"
     ]
    },
    {
     "data": {
      "image/png": "[encoded data removed]",
      "text/plain": [
       "<Figure size 432x288 with 2 Axes>"
      ]
     },
     "metadata": {
      "needs_background": "light"
     },
     "output_type": "display_data"
    },
    {
     "data": {
      "image/png": "[encoded data removed]",
      "text/plain": [
       "<Figure size 432x288 with 1 Axes>"
      ]
     },
     "metadata": {
      "needs_background": "light"
     },
     "output_type": "display_data"
    }
   ],
   "source": [
    "#給定篩選值\n",
    "given_criterion = 25\n",
    "#給定連續天數\n",
    "continue_criterion = 3\n",
    "\n",
    "#產生篩選值T/F array\n",
    "tel_array = pr_array > given_criterion\n",
    "find_diff = lambda x: np.diff(x,0)\n",
    "tel_diff_oc = np.apply_along_axis(find_diff,0,tel_array)\n",
    "#print(tel_diff_oc.shape)\n",
    "\n",
    "\n",
    "def find_countz(x):\n",
    "    tel_array_01 = np.zeros(len(x))\n",
    "    tel_array_01[x==1]=1\n",
    "    diff_01 = np.diff(tel_array_01)\n",
    "    pos_of_one = np.where(diff_01==1)\n",
    "    pos_of_minus_one = np.where(diff_01==-1)\n",
    "    #oc = len(pos_of_one)==len(pos_of_minus_one)\n",
    "    if len(pos_of_minus_one[0]) == len(pos_of_one[0]):\n",
    "        continu_len = pos_of_minus_one[0] - pos_of_one[0] \n",
    "    elif len(pos_of_minus_one[0]) != len(pos_of_one[0]):\n",
    "        continu_len = np.append(pos_of_minus_one[0],len(x)) - pos_of_one[0] \n",
    "    oc = sum(continu_len > continue_criterion)\n",
    "    return(oc)\n",
    "\n",
    "find_countz_oc = np.apply_along_axis(find_countz,0,tel_array)\n",
    "\n",
    "import matplotlib as mpl\n",
    "import matplotlib.pyplot as plt\n",
    "\n",
    "print(\"檢視色階圖\")\n",
    "print(find_countz_oc.shape)\n",
    "\n",
    "plot1 = plt.figure(1)\n",
    "sns.heatmap(np.flip(find_countz_oc,0))\n",
    "\n",
    "\n",
    "print(\"檢視頻度圖\")\n",
    "\n",
    "plt.figure(2)\n",
    "plt.hist(find_countz_oc > 3)\n",
    "\n",
    "plt.show()"
   ]
  },
  {
   "cell_type": "code",
   "execution_count": 116,
   "metadata": {},
   "outputs": [
    {
     "name": "stdout",
     "output_type": "stream",
     "text": [
      "criterion_25_continue_3_heatmapt.png\n"
     ]
    },
    {
     "data": {
      "image/png": "[encoded data removed]",
      "text/plain": [
       "<Figure size 432x288 with 2 Axes>"
      ]
     },
     "metadata": {
      "needs_background": "light"
     },
     "output_type": "display_data"
    }
   ],
   "source": [
    "#輸出圖片\n",
    "set_fn = f\"criterion_{given_criterion}_continue_{continue_criterion}_heatmapt.png\"\n",
    "print(set_fn)\n",
    "sns.heatmap(np.flip(find_countz_oc,0)).set_title(\"continue cases image\")\n",
    "plt.savefig(set_fn)"
   ]
  }
 ],
 "metadata": {
  "kernelspec": {
   "display_name": "Python 3",
   "language": "python",
   "name": "python3"
  },
  "language_info": {
   "codemirror_mode": {
    "name": "ipython",
    "version": 3
   },
   "file_extension": ".py",
   "mimetype": "text/x-python",
   "name": "python",
   "nbconvert_exporter": "python",
   "pygments_lexer": "ipython3",
   "version": "3.8.5"
  }
 },
 "nbformat": 4,
 "nbformat_minor": 2
}
